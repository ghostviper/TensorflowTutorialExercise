{
 "cells": [
  {
   "cell_type": "markdown",
   "metadata": {},
   "source": [
    "### 导入必要的库"
   ]
  },
  {
   "cell_type": "code",
   "execution_count": 42,
   "metadata": {},
   "outputs": [],
   "source": [
    "%matplotlib inline\n",
    "import matplotlib.pyplot as plt\n",
    "import tensorflow as tf\n",
    "import numpy as np\n",
    "import math\n",
    "# from tf.keras.models import Sequential  # This does not work!\n",
    "from tensorflow.python.keras.models import Sequential, Model\n",
    "from tensorflow.python.keras.layers import InputLayer, Input\n",
    "from tensorflow.python.keras.layers import Reshape, MaxPooling2D\n",
    "from tensorflow.python.keras.layers import Conv2D, Dense, Flatten\n",
    "from tensorflow.python.keras.optimizers import Adam"
   ]
  },
  {
   "cell_type": "code",
   "execution_count": 3,
   "metadata": {},
   "outputs": [
    {
     "data": {
      "text/plain": [
       "'1.8.0'"
      ]
     },
     "execution_count": 3,
     "metadata": {},
     "output_type": "execute_result"
    }
   ],
   "source": [
    "tf.__version__"
   ]
  },
  {
   "cell_type": "code",
   "execution_count": 4,
   "metadata": {},
   "outputs": [],
   "source": [
    "from mnist import MNIST\n",
    "data = MNIST(data_dir=\"data/MNIST/\")"
   ]
  },
  {
   "cell_type": "code",
   "execution_count": 5,
   "metadata": {},
   "outputs": [
    {
     "name": "stdout",
     "output_type": "stream",
     "text": [
      "Size of:\n",
      "- Training-set:\t\t55000\n",
      "- Validation-set:\t5000\n",
      "- Test-set:\t\t10000\n"
     ]
    }
   ],
   "source": [
    "print(\"Size of:\")\n",
    "print(\"- Training-set:\\t\\t{}\".format(data.num_train))\n",
    "print(\"- Validation-set:\\t{}\".format(data.num_val))\n",
    "print(\"- Test-set:\\t\\t{}\".format(data.num_test))"
   ]
  },
  {
   "cell_type": "code",
   "execution_count": 6,
   "metadata": {},
   "outputs": [],
   "source": [
    "# 数据的维度信息\n",
    "# The number of pixels in each dimension of an image.\n",
    "img_size = data.img_size\n",
    "\n",
    "# The images are stored in one-dimensional arrays of this length.\n",
    "img_size_flat = data.img_size_flat\n",
    "\n",
    "# Tuple with height and width of images used to reshape arrays.\n",
    "img_shape = data.img_shape\n",
    "\n",
    "# Tuple with height, width and depth used to reshape arrays.\n",
    "# This is used for reshaping in Keras.\n",
    "img_shape_full = data.img_shape_full\n",
    "\n",
    "# Number of classes, one class for each of 10 digits.\n",
    "num_classes = data.num_classes\n",
    "\n",
    "# Number of colour channels for the images: 1 channel for gray-scale.\n",
    "num_channels = data.num_channels"
   ]
  },
  {
   "cell_type": "markdown",
   "metadata": {},
   "source": [
    "### 用keras搭建模型"
   ]
  },
  {
   "cell_type": "code",
   "execution_count": 13,
   "metadata": {},
   "outputs": [],
   "source": [
    "model = Sequential()\n",
    "model.add(InputLayer(input_shape=(img_size_flat, )))\n",
    "model.add(Reshape(img_shape_full))\n",
    "model.add(Conv2D(filters=16, kernel_size=(5, 5), strides=(1, 1), padding='SAME', activation='relu'))\n",
    "model.add(MaxPooling2D(pool_size=(2, 2), strides=(2, 2), padding=\"SAME\"))\n",
    "model.add(Conv2D(filters=36, kernel_size=(5, 5), strides=(1, 1), padding='SAME', activation='relu'))\n",
    "model.add(MaxPooling2D(pool_size=(2, 2), strides=(2, 2), padding='SAME'))\n",
    "model.add(Flatten())\n",
    "model.add(Dense(128, activation='relu'))\n",
    "model.add(Dense(10, activation='softmax'))"
   ]
  },
  {
   "cell_type": "code",
   "execution_count": 14,
   "metadata": {},
   "outputs": [
    {
     "name": "stdout",
     "output_type": "stream",
     "text": [
      "_________________________________________________________________\n",
      "Layer (type)                 Output Shape              Param #   \n",
      "=================================================================\n",
      "reshape_2 (Reshape)          (None, 28, 28, 1)         0         \n",
      "_________________________________________________________________\n",
      "conv2d_3 (Conv2D)            (None, 28, 28, 16)        416       \n",
      "_________________________________________________________________\n",
      "max_pooling2d_3 (MaxPooling2 (None, 14, 14, 16)        0         \n",
      "_________________________________________________________________\n",
      "conv2d_4 (Conv2D)            (None, 14, 14, 36)        14436     \n",
      "_________________________________________________________________\n",
      "max_pooling2d_4 (MaxPooling2 (None, 7, 7, 36)          0         \n",
      "_________________________________________________________________\n",
      "flatten_2 (Flatten)          (None, 1764)              0         \n",
      "_________________________________________________________________\n",
      "dense_3 (Dense)              (None, 128)               225920    \n",
      "_________________________________________________________________\n",
      "dense_4 (Dense)              (None, 10)                1290      \n",
      "=================================================================\n",
      "Total params: 242,062\n",
      "Trainable params: 242,062\n",
      "Non-trainable params: 0\n",
      "_________________________________________________________________\n"
     ]
    }
   ],
   "source": [
    "model.summary()"
   ]
  },
  {
   "cell_type": "code",
   "execution_count": 18,
   "metadata": {},
   "outputs": [],
   "source": [
    "# 创建优化器 编译模型\n",
    "optimizer = Adam(lr=1e-4)\n",
    "model.compile(optimizer=optimizer, loss='categorical_crossentropy', metrics=['accuracy'])"
   ]
  },
  {
   "cell_type": "code",
   "execution_count": 22,
   "metadata": {
    "scrolled": true
   },
   "outputs": [
    {
     "name": "stdout",
     "output_type": "stream",
     "text": [
      "Train on 55000 samples, validate on 5000 samples\n",
      "Epoch 1/20\n",
      "55000/55000 [==============================] - 7s 121us/step - loss: 0.0232 - acc: 0.9931 - val_loss: 0.0349 - val_acc: 0.9902\n",
      "Epoch 2/20\n",
      "55000/55000 [==============================] - 7s 122us/step - loss: 0.0208 - acc: 0.9933 - val_loss: 0.0374 - val_acc: 0.9896\n",
      "Epoch 3/20\n",
      "55000/55000 [==============================] - 6s 111us/step - loss: 0.0191 - acc: 0.9937 - val_loss: 0.0376 - val_acc: 0.9894\n",
      "Epoch 4/20\n",
      "55000/55000 [==============================] - 6s 102us/step - loss: 0.0165 - acc: 0.9952 - val_loss: 0.0408 - val_acc: 0.9892\n",
      "Epoch 5/20\n",
      "55000/55000 [==============================] - 6s 102us/step - loss: 0.0147 - acc: 0.9954 - val_loss: 0.0382 - val_acc: 0.9910\n",
      "Epoch 6/20\n",
      "55000/55000 [==============================] - 6s 102us/step - loss: 0.0136 - acc: 0.9954 - val_loss: 0.0446 - val_acc: 0.9870\n",
      "Epoch 7/20\n",
      "55000/55000 [==============================] - 6s 102us/step - loss: 0.0117 - acc: 0.9964 - val_loss: 0.0374 - val_acc: 0.9904\n",
      "Epoch 8/20\n",
      "55000/55000 [==============================] - 6s 101us/step - loss: 0.0110 - acc: 0.9965 - val_loss: 0.0375 - val_acc: 0.9900\n",
      "Epoch 9/20\n",
      "55000/55000 [==============================] - 6s 102us/step - loss: 0.0095 - acc: 0.9968 - val_loss: 0.0422 - val_acc: 0.9880\n",
      "Epoch 10/20\n",
      "55000/55000 [==============================] - 6s 101us/step - loss: 0.0092 - acc: 0.9973 - val_loss: 0.0370 - val_acc: 0.9920\n",
      "Epoch 11/20\n",
      "55000/55000 [==============================] - 6s 102us/step - loss: 0.0082 - acc: 0.9974 - val_loss: 0.0427 - val_acc: 0.9882\n",
      "Epoch 12/20\n",
      "55000/55000 [==============================] - 6s 101us/step - loss: 0.0064 - acc: 0.9984 - val_loss: 0.0415 - val_acc: 0.9902\n",
      "Epoch 13/20\n",
      "55000/55000 [==============================] - 6s 101us/step - loss: 0.0065 - acc: 0.9980 - val_loss: 0.0389 - val_acc: 0.9898\n",
      "Epoch 14/20\n",
      "55000/55000 [==============================] - 6s 102us/step - loss: 0.0060 - acc: 0.9980 - val_loss: 0.0413 - val_acc: 0.9904\n",
      "Epoch 15/20\n",
      "55000/55000 [==============================] - 6s 101us/step - loss: 0.0053 - acc: 0.9985 - val_loss: 0.0424 - val_acc: 0.9910\n",
      "Epoch 16/20\n",
      "55000/55000 [==============================] - 6s 102us/step - loss: 0.0050 - acc: 0.9986 - val_loss: 0.0408 - val_acc: 0.9904\n",
      "Epoch 17/20\n",
      "55000/55000 [==============================] - 6s 101us/step - loss: 0.0041 - acc: 0.9989 - val_loss: 0.0397 - val_acc: 0.9902\n",
      "Epoch 18/20\n",
      "55000/55000 [==============================] - 6s 102us/step - loss: 0.0043 - acc: 0.9987 - val_loss: 0.0366 - val_acc: 0.9908\n",
      "Epoch 19/20\n",
      "55000/55000 [==============================] - 6s 101us/step - loss: 0.0038 - acc: 0.9988 - val_loss: 0.0414 - val_acc: 0.9914\n",
      "Epoch 20/20\n",
      "55000/55000 [==============================] - 6s 102us/step - loss: 0.0037 - acc: 0.9989 - val_loss: 0.0410 - val_acc: 0.9902\n"
     ]
    }
   ],
   "source": [
    "history = model.fit(\n",
    "    x=data.x_train, \n",
    "    y=data.y_train, \n",
    "    batch_size=32, \n",
    "    verbose=1, \n",
    "    epochs=20, \n",
    "    validation_data=(data.x_val, data.y_val)\n",
    ")"
   ]
  },
  {
   "cell_type": "markdown",
   "metadata": {},
   "source": [
    "### Keras 函数式编程模型"
   ]
  },
  {
   "cell_type": "code",
   "execution_count": 30,
   "metadata": {},
   "outputs": [],
   "source": [
    "inputs = Input(shape=(img_size_flat, ))\n",
    "reshape_inputs = Reshape(img_shape_full)(inputs)"
   ]
  },
  {
   "cell_type": "code",
   "execution_count": 33,
   "metadata": {},
   "outputs": [],
   "source": [
    "conv1 = Conv2D(\n",
    "    filters=16, \n",
    "    kernel_size=(5, 5),\n",
    "    strides=(1, 1),\n",
    "    padding='SAME',\n",
    "    activation='relu'\n",
    ")(reshape_inputs)"
   ]
  },
  {
   "cell_type": "code",
   "execution_count": 35,
   "metadata": {},
   "outputs": [],
   "source": [
    "maxpool1 = MaxPooling2D(\n",
    "    pool_size=(2, 2),\n",
    "    strides=(2, 2),\n",
    "    padding='SAME'\n",
    ")(conv1)"
   ]
  },
  {
   "cell_type": "code",
   "execution_count": 36,
   "metadata": {},
   "outputs": [],
   "source": [
    "conv2 = Conv2D(\n",
    "    filters=36,\n",
    "    kernel_size=(5, 5),\n",
    "    strides=(1, 1),\n",
    "    padding=\"SAME\",\n",
    "    activation='relu'\n",
    ")(maxpool1)"
   ]
  },
  {
   "cell_type": "code",
   "execution_count": 37,
   "metadata": {},
   "outputs": [],
   "source": [
    "maxpool2 = MaxPooling2D(\n",
    "    pool_size=(2, 2),\n",
    "    strides=(2, 2),\n",
    "    padding=\"SAME\"\n",
    ")(conv2)"
   ]
  },
  {
   "cell_type": "code",
   "execution_count": 38,
   "metadata": {},
   "outputs": [],
   "source": [
    "flatten = Flatten()(maxpool2)"
   ]
  },
  {
   "cell_type": "code",
   "execution_count": 39,
   "metadata": {},
   "outputs": [],
   "source": [
    "dense1 = Dense(128, activation='relu')(flatten)"
   ]
  },
  {
   "cell_type": "code",
   "execution_count": 40,
   "metadata": {},
   "outputs": [],
   "source": [
    "output_layer = Dense(10, activation='softmax')(dense1)"
   ]
  },
  {
   "cell_type": "code",
   "execution_count": 43,
   "metadata": {},
   "outputs": [],
   "source": [
    "model2 = Model(inputs=inputs, outputs=output_layer)"
   ]
  },
  {
   "cell_type": "code",
   "execution_count": 44,
   "metadata": {},
   "outputs": [
    {
     "name": "stdout",
     "output_type": "stream",
     "text": [
      "_________________________________________________________________\n",
      "Layer (type)                 Output Shape              Param #   \n",
      "=================================================================\n",
      "input_7 (InputLayer)         (None, 784)               0         \n",
      "_________________________________________________________________\n",
      "reshape_5 (Reshape)          (None, 28, 28, 1)         0         \n",
      "_________________________________________________________________\n",
      "conv2d_5 (Conv2D)            (None, 28, 28, 16)        416       \n",
      "_________________________________________________________________\n",
      "max_pooling2d_5 (MaxPooling2 (None, 14, 14, 16)        0         \n",
      "_________________________________________________________________\n",
      "conv2d_6 (Conv2D)            (None, 14, 14, 36)        14436     \n",
      "_________________________________________________________________\n",
      "max_pooling2d_6 (MaxPooling2 (None, 7, 7, 36)          0         \n",
      "_________________________________________________________________\n",
      "flatten_3 (Flatten)          (None, 1764)              0         \n",
      "_________________________________________________________________\n",
      "dense_5 (Dense)              (None, 128)               225920    \n",
      "_________________________________________________________________\n",
      "dense_6 (Dense)              (None, 10)                1290      \n",
      "=================================================================\n",
      "Total params: 242,062\n",
      "Trainable params: 242,062\n",
      "Non-trainable params: 0\n",
      "_________________________________________________________________\n"
     ]
    }
   ],
   "source": [
    "model2.summary()"
   ]
  },
  {
   "cell_type": "code",
   "execution_count": 45,
   "metadata": {},
   "outputs": [
    {
     "name": "stdout",
     "output_type": "stream",
     "text": [
      "Train on 55000 samples, validate on 5000 samples\n",
      "Epoch 1/20\n",
      "55000/55000 [==============================] - 4s 75us/step - loss: 0.2079 - acc: 0.9388 - val_loss: 0.0880 - val_acc: 0.9762\n",
      "Epoch 2/20\n",
      "55000/55000 [==============================] - 4s 70us/step - loss: 0.0839 - acc: 0.9749 - val_loss: 0.0615 - val_acc: 0.9836\n",
      "Epoch 3/20\n",
      "55000/55000 [==============================] - 4s 70us/step - loss: 0.0636 - acc: 0.9807 - val_loss: 0.0597 - val_acc: 0.9836\n",
      "Epoch 4/20\n",
      "55000/55000 [==============================] - 4s 70us/step - loss: 0.0518 - acc: 0.9841 - val_loss: 0.0503 - val_acc: 0.9838\n",
      "Epoch 5/20\n",
      "55000/55000 [==============================] - 4s 70us/step - loss: 0.0432 - acc: 0.9868 - val_loss: 0.0485 - val_acc: 0.9858\n",
      "Epoch 6/20\n",
      "55000/55000 [==============================] - 4s 70us/step - loss: 0.0379 - acc: 0.9883 - val_loss: 0.0417 - val_acc: 0.9884\n",
      "Epoch 7/20\n",
      "55000/55000 [==============================] - 4s 70us/step - loss: 0.0324 - acc: 0.9899 - val_loss: 0.0411 - val_acc: 0.9890\n",
      "Epoch 8/20\n",
      "55000/55000 [==============================] - 4s 70us/step - loss: 0.0287 - acc: 0.9912 - val_loss: 0.0353 - val_acc: 0.9904\n",
      "Epoch 9/20\n",
      "55000/55000 [==============================] - 4s 70us/step - loss: 0.0254 - acc: 0.9922 - val_loss: 0.0350 - val_acc: 0.9902\n",
      "Epoch 10/20\n",
      "55000/55000 [==============================] - 4s 70us/step - loss: 0.0219 - acc: 0.9932 - val_loss: 0.0389 - val_acc: 0.9892\n",
      "Epoch 11/20\n",
      "55000/55000 [==============================] - 4s 70us/step - loss: 0.0194 - acc: 0.9943 - val_loss: 0.0368 - val_acc: 0.9902\n",
      "Epoch 12/20\n",
      "55000/55000 [==============================] - 4s 70us/step - loss: 0.0175 - acc: 0.9946 - val_loss: 0.0361 - val_acc: 0.9898\n",
      "Epoch 13/20\n",
      "55000/55000 [==============================] - 4s 70us/step - loss: 0.0152 - acc: 0.9955 - val_loss: 0.0385 - val_acc: 0.9892\n",
      "Epoch 14/20\n",
      "55000/55000 [==============================] - 4s 70us/step - loss: 0.0139 - acc: 0.9960 - val_loss: 0.0374 - val_acc: 0.9900\n",
      "Epoch 15/20\n",
      "55000/55000 [==============================] - 4s 70us/step - loss: 0.0123 - acc: 0.9962 - val_loss: 0.0475 - val_acc: 0.9874\n",
      "Epoch 16/20\n",
      "55000/55000 [==============================] - 4s 70us/step - loss: 0.0113 - acc: 0.9968 - val_loss: 0.0306 - val_acc: 0.9916\n",
      "Epoch 17/20\n",
      "55000/55000 [==============================] - 4s 70us/step - loss: 0.0095 - acc: 0.9970 - val_loss: 0.0310 - val_acc: 0.9922\n",
      "Epoch 18/20\n",
      "55000/55000 [==============================] - 4s 70us/step - loss: 0.0083 - acc: 0.9976 - val_loss: 0.0317 - val_acc: 0.9920\n",
      "Epoch 19/20\n",
      "55000/55000 [==============================] - 4s 70us/step - loss: 0.0078 - acc: 0.9977 - val_loss: 0.0359 - val_acc: 0.9908\n",
      "Epoch 20/20\n",
      "55000/55000 [==============================] - 4s 70us/step - loss: 0.0065 - acc: 0.9983 - val_loss: 0.0359 - val_acc: 0.9912\n"
     ]
    }
   ],
   "source": [
    "# 创建优化器 编译模型\n",
    "model2.compile(optimizer=optimizer, loss='categorical_crossentropy', metrics=['accuracy'])\n",
    "history2 = model2.fit(\n",
    "    x=data.x_train, \n",
    "    y=data.y_train, \n",
    "    batch_size=32, \n",
    "    verbose=1, \n",
    "    epochs=20, \n",
    "    validation_data=(data.x_val, data.y_val)\n",
    ")"
   ]
  },
  {
   "cell_type": "code",
   "execution_count": null,
   "metadata": {},
   "outputs": [],
   "source": []
  }
 ],
 "metadata": {
  "kernelspec": {
   "display_name": "Python 3",
   "language": "python",
   "name": "python3"
  },
  "language_info": {
   "codemirror_mode": {
    "name": "ipython",
    "version": 3
   },
   "file_extension": ".py",
   "mimetype": "text/x-python",
   "name": "python",
   "nbconvert_exporter": "python",
   "pygments_lexer": "ipython3",
   "version": "3.6.1"
  }
 },
 "nbformat": 4,
 "nbformat_minor": 2
}
