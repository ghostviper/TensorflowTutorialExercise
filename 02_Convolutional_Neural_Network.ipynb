{
 "cells": [
  {
   "cell_type": "code",
   "execution_count": 1,
   "metadata": {},
   "outputs": [
    {
     "name": "stderr",
     "output_type": "stream",
     "text": [
      "/home/chenxiaoyun/.pyenv/versions/3.6.1/lib/python3.6/importlib/_bootstrap.py:205: RuntimeWarning: numpy.ufunc size changed, may indicate binary incompatibility. Expected 216, got 192\n",
      "  return f(*args, **kwds)\n",
      "/home/chenxiaoyun/.pyenv/versions/3.6.1/lib/python3.6/importlib/_bootstrap.py:205: RuntimeWarning: numpy.ufunc size changed, may indicate binary incompatibility. Expected 216, got 192\n",
      "  return f(*args, **kwds)\n"
     ]
    }
   ],
   "source": [
    "%matplotlib inline\n",
    "import matplotlib.pyplot as plt\n",
    "import tensorflow as tf\n",
    "import numpy as np\n",
    "from sklearn.metrics import confusion_matrix\n",
    "import time\n",
    "from datetime import timedelta\n",
    "import math"
   ]
  },
  {
   "cell_type": "code",
   "execution_count": 2,
   "metadata": {},
   "outputs": [],
   "source": [
    "config = tf.ConfigProto()\n",
    "config.gpu_options.allow_growth=True   #不全部占满显存, 按需分配\n",
    "session = tf.Session(config=config)"
   ]
  },
  {
   "cell_type": "code",
   "execution_count": 3,
   "metadata": {
    "scrolled": true
   },
   "outputs": [
    {
     "data": {
      "text/plain": [
       "'1.8.0'"
      ]
     },
     "execution_count": 3,
     "metadata": {},
     "output_type": "execute_result"
    }
   ],
   "source": [
    "tf.__version__"
   ]
  },
  {
   "cell_type": "markdown",
   "metadata": {},
   "source": [
    "### 定义神经网络所需要的基本参数"
   ]
  },
  {
   "cell_type": "code",
   "execution_count": 4,
   "metadata": {},
   "outputs": [],
   "source": [
    "# 第一层卷积层的卷积核大小\n",
    "filter_size1 = 5\n",
    "# 第一层卷积核的个数\n",
    "num_filters1 = 16\n",
    "# 第二层卷积核的大小\n",
    "filter_size2 = 5\n",
    "# 第二层卷积核的大小\n",
    "num_filter2 = 36\n",
    "# 全连接层的大小\n",
    "fc_size = 128"
   ]
  },
  {
   "cell_type": "markdown",
   "metadata": {},
   "source": [
    "### 载入MNIST 数据集"
   ]
  },
  {
   "cell_type": "code",
   "execution_count": 5,
   "metadata": {},
   "outputs": [],
   "source": [
    "from mnist import MNIST\n",
    "data = MNIST(data_dir=\"data/MNIST/\")"
   ]
  },
  {
   "cell_type": "code",
   "execution_count": 6,
   "metadata": {},
   "outputs": [
    {
     "name": "stdout",
     "output_type": "stream",
     "text": [
      "训练集的大小： 55000\n",
      "验证集的大小: 5000\n",
      "测试集的大小: 10000\n"
     ]
    }
   ],
   "source": [
    "# 查看数据集的大小\n",
    "print(\"训练集的大小：\", data.num_train)\n",
    "print(\"验证集的大小:\", data.num_val)\n",
    "print(\"测试集的大小:\", data.num_test)"
   ]
  },
  {
   "cell_type": "markdown",
   "metadata": {},
   "source": [
    "### 复制数据维度信息"
   ]
  },
  {
   "cell_type": "code",
   "execution_count": 7,
   "metadata": {},
   "outputs": [],
   "source": [
    "# 图片展开的大小\n",
    "img_size_flat = data.img_size_flat\n",
    "\n",
    "#图片原始尺寸\n",
    "img_shape = data.img_shape\n",
    "\n",
    "# 类别数\n",
    "num_classes = data.num_classes"
   ]
  },
  {
   "cell_type": "markdown",
   "metadata": {},
   "source": [
    "### Tensorflow图简单说明\n",
    "- 占位符变量(placeholder)用来改变图的输入\n",
    "- 模型变量(Model)将会被优化，使得模型的表现更好\n",
    "- 模型本质上就是一些数学函数，它根据placeholder和模型的输入变量来计算一些输出\n",
    "- 一个cost度量用来指导变量的优化\n",
    "- 一个优化策略会更新模型的变量"
   ]
  },
  {
   "cell_type": "markdown",
   "metadata": {},
   "source": [
    "### 创建新变量的帮助函数"
   ]
  },
  {
   "cell_type": "code",
   "execution_count": 9,
   "metadata": {},
   "outputs": [],
   "source": [
    "def new_weights(shape):\n",
    "    return tf.Variable(tf.truncated_normal(shape, stddev=0.05))"
   ]
  },
  {
   "cell_type": "code",
   "execution_count": 15,
   "metadata": {},
   "outputs": [],
   "source": [
    "tf.truncated_normal??"
   ]
  },
  {
   "cell_type": "code",
   "execution_count": 12,
   "metadata": {},
   "outputs": [],
   "source": [
    "def new_biases(length):\n",
    "    return tf.Variable(tf.constant(0.05, shape=[length]))"
   ]
  },
  {
   "cell_type": "code",
   "execution_count": 14,
   "metadata": {},
   "outputs": [],
   "source": [
    "tf.constant??"
   ]
  },
  {
   "cell_type": "markdown",
   "metadata": {},
   "source": [
    "### 创建卷积层的帮助函数\n",
    "\n",
    "假设输入的四维张量，各个维度如下\n",
    "\n",
    "1.图像数量 \n",
    "\n",
    "2.每张图像的Y轴 \n",
    "\n",
    "3.每张图像的X轴 \n",
    "\n",
    "4.每张图像的通道数 \n",
    "\n",
    "\n",
    "输入图片的张量的时候可能是彩色的通道即红绿蓝，当输入是前一层卷积层生成的输出的时候，它可能是滤波通道\n",
    "\n",
    "输出是另外一个四通道的张量，如下\n",
    "1.图像数量，与输入相同 \n",
    "\n",
    "2.每张图的Y轴，如果用了2x2的池化，则输入是图像宽高的一半 \n",
    "\n",
    "3.每张图像的X轴 \n",
    "\n",
    "4.卷积滤波生成的通道数 \n"
   ]
  },
  {
   "cell_type": "code",
   "execution_count": null,
   "metadata": {},
   "outputs": [],
   "source": [
    "def new_conv_layer(input, num_input_channels, filter_size, num_filters, use_pooling=True):\n",
    "    # 定义输入张量的形状\n",
    "    shape = [filter_size, filter_size, num_input_channels, num_filters]\n",
    "    # 初始化当前层的weights\n",
    "    weights = new_weights(shape=shape)\n",
    "    # 初始化biases\n",
    "    biases = new_biases(length=num_filters)\n",
    "    # 建立一个卷积\n",
    "    layer = tf.layers.conv2d(\n",
    "        input=input,\n",
    "        filter=weights,\n",
    "        strides=[1, 1, 1, 1],\n",
    "        padding='SAME'\n",
    "    )\n",
    "    layer += biases\n",
    "    if use_pooling is True:\n",
    "        # 进行池化层操作\n",
    "        # 初始化参数为： 输入层、卷积核大小2x2，步长高宽2，2，填充0\n",
    "        layer = tf.nn.max_pool(\n",
    "            value=layer,\n",
    "            ksize=[1, 2, 2, 1],\n",
    "            strides=[1, 2, 2, 1],\n",
    "            padding='SAME'\n",
    "        )\n",
    "    # 对卷积的输出或池化层进行激活\n",
    "    tf.nn.relu(layer)\n",
    "    "
   ]
  }
 ],
 "metadata": {
  "kernelspec": {
   "display_name": "Python 3",
   "language": "python",
   "name": "python3"
  },
  "language_info": {
   "codemirror_mode": {
    "name": "ipython",
    "version": 3
   },
   "file_extension": ".py",
   "mimetype": "text/x-python",
   "name": "python",
   "nbconvert_exporter": "python",
   "pygments_lexer": "ipython3",
   "version": "3.6.1"
  }
 },
 "nbformat": 4,
 "nbformat_minor": 2
}
